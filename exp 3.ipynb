{
 "cells": [
  {
   "cell_type": "code",
   "execution_count": null,
   "metadata": {
    "vscode": {
     "languageId": "plaintext"
    }
   },
   "outputs": [],
   "source": [
    "import numpy as np\n",
    "import pandas as pd\n",
    "import matplotlib.pyplot as plt\n",
    "\n",
    "np.random.seed(42)\n",
    "date_rng = pd.date_range(start='1/1/2000', end='12/31/2023', freq='M')\n",
    "data = np.cumsum(np.random.randn(len(date_rng)))\n",
    "\n",
    "df = pd.DataFrame(data, index=date_rng, columns=['Value'])\n",
    "\n",
    "rolling_mean = df['Value'].rolling(window=12).mean()\n",
    "rolling_std = df['Value'].rolling(window=12).std()\n",
    "\n",
    "plt.figure(figsize=(12, 6))\n",
    "plt.plot(df['Value'], label='Original Data', color='blue')\n",
    "plt.plot(rolling_mean, label='Rolling Mean (12 Months)', color='red', linestyle='dashed')\n",
    "\n",
    "plt.title(\"Rolling Mean & Standard Deviation Check\")\n",
    "plt.legend()\n",
    "plt.show()\n"
   ]
  },
  {
   "cell_type": "code",
   "execution_count": null,
   "metadata": {
    "vscode": {
     "languageId": "plaintext"
    }
   },
   "outputs": [],
   "source": [
    "from statsmodels.tsa.stattools import adfuller\n",
    "\n",
    "\n",
    "adf_test = adfuller(df['Value'])\n",
    "\n",
    "\n",
    "print(\"Augmented Dickey-Fuller Test Results:\")\n",
    "print(f\"ADF Statistic: {adf_test[0]}\")\n",
    "print(f\"P-Value: {adf_test[1]}\")\n",
    "print(f\"Critical Values: {adf_test[4]}\")\n",
    "\n",
    "\n",
    "if adf_test[1] < 0.05:\n",
    "    print(\"Conclusion: The time series is STATIONARY (Reject H0)\")\n",
    "else:\n",
    "    print(\"Conclusion: The time series is NON-STATIONARY (Fail to reject H0)\")\n"
   ]
  },
  {
   "cell_type": "code",
   "execution_count": null,
   "metadata": {
    "vscode": {
     "languageId": "plaintext"
    }
   },
   "outputs": [],
   "source": [
    "\n",
    "df['Differenced'] = df['Value'].diff().dropna()\n",
    "\n",
    "adf_diff_test = adfuller(df['Differenced'].dropna())\n",
    "\n",
    "print(\"\\nADF Test After Differencing:\")\n",
    "print(f\"ADF Statistic: {adf_diff_test[0]}\")\n",
    "print(f\"P-Value: {adf_diff_test[1]}\")\n",
    "if adf_diff_test[1] < 0.05:\n",
    "    print(\"Conclusion: The Differenced Series is STATIONARY\")\n",
    "else:\n",
    "    print(\"Conclusion: The Differenced Series is STILL NON-STATIONARY\")\n"
   ]
  }
 ],
 "metadata": {
  "language_info": {
   "name": "python"
  }
 },
 "nbformat": 4,
 "nbformat_minor": 2
}
