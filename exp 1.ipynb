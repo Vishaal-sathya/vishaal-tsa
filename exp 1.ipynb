{
 "cells": [
  {
   "cell_type": "code",
   "execution_count": null,
   "metadata": {
    "vscode": {
     "languageId": "plaintext"
    }
   },
   "outputs": [],
   "source": [
    "import numpy as np\n",
    "import pandas as pd\n",
    "import matplotlib.pyplot as plt\n",
    "\n",
    "np.random.seed(42)\n",
    "\n",
    "\n",
    "columns = ['Cement', 'Blast Furnace Slag', 'Fly Ash', 'Water']\n",
    "n_rows = 100\n",
    "\n",
    "data = np.random.rand(n_rows, len(columns)) * 100\n",
    "df = pd.DataFrame(data, columns=columns)\n",
    "\n",
    "missing_indices = np.random.choice(df.size, size=int(df.size * 0.5), replace=False)\n",
    "df.values.ravel()[missing_indices] = np.nan\n",
    "\n",
    "print(df)\n"
   ]
  },
  {
   "cell_type": "code",
   "execution_count": null,
   "metadata": {
    "vscode": {
     "languageId": "plaintext"
    }
   },
   "outputs": [],
   "source": [
    "\n",
    "\n",
    "plt.figure(figsize=(10, 6))\n",
    "plt.plot(df['Cement'], label='Cement', color='blue')\n",
    "\n",
    "plt.title('Cement Data with Missing Values')\n",
    "plt.xlabel('Index')\n",
    "plt.ylabel('Cement Value')\n",
    "plt.legend()\n",
    "plt.grid(True)\n",
    "plt.show()\n"
   ]
  },
  {
   "cell_type": "code",
   "execution_count": null,
   "metadata": {
    "vscode": {
     "languageId": "plaintext"
    }
   },
   "outputs": [],
   "source": [
    "df['Cement'] = df['Cement'].interpolate()\n",
    "\n",
    "\n",
    "plt.figure(figsize=(10, 6))\n",
    "plt.plot(df['Cement'], label='Cement (Interpolated)', color='blue')\n",
    "\n",
    "plt.title('Cement Data with Interpolated Missing Values in Line Plot')\n",
    "plt.xlabel('Index')\n",
    "plt.ylabel('Cement Value')\n",
    "plt.legend()\n",
    "plt.grid(True)\n",
    "plt.show()\n"
   ]
  },
  {
   "cell_type": "code",
   "execution_count": null,
   "metadata": {
    "vscode": {
     "languageId": "plaintext"
    }
   },
   "outputs": [],
   "source": [
    "from scipy.stats import zscore\n",
    "\n",
    "z_scores = np.abs(zscore(df.fillna(df.mean())))\n",
    "threshold = 0.3\n",
    "outliers = (z_scores > threshold)\n",
    "print(\"Outliers (True means outlier, False means normal):\")\n",
    "print(outliers)\n",
    "outlier_values = df[outliers]\n",
    "print(\"\\nOutlier values:\")\n",
    "print(outlier_values)\n"
   ]
  }
 ],
 "metadata": {
  "language_info": {
   "name": "python"
  }
 },
 "nbformat": 4,
 "nbformat_minor": 2
}
