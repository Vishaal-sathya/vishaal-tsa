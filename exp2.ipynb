{
 "cells": [
  {
   "cell_type": "code",
   "execution_count": null,
   "metadata": {
    "vscode": {
     "languageId": "plaintext"
    }
   },
   "outputs": [],
   "source": [
    "import numpy as np\n",
    "import pandas as pd\n",
    "import matplotlib.pyplot as plt\n",
    "\n",
    "np.random.seed(42)\n",
    "date_rng = pd.date_range(start='1/1/2020', end='12/31/2023', freq='M')\n",
    "data = np.random.randn(len(date_rng)).cumsum()\n",
    "\n",
    "df = pd.DataFrame(data, index=date_rng, columns=['Value'])\n",
    "\n",
    "plt.figure(figsize=(12, 6))\n",
    "plt.plot(df.index, df['Value'], marker='o', linestyle='-', color='b', label=\"Time Series\")\n",
    "plt.xlabel(\"Date\")\n",
    "plt.ylabel(\"Value\")\n",
    "plt.title(\"Time Series Data Visualization\")\n",
    "plt.legend()\n",
    "plt.grid()\n",
    "plt.show()\n"
   ]
  },
  {
   "cell_type": "code",
   "execution_count": null,
   "metadata": {
    "vscode": {
     "languageId": "plaintext"
    }
   },
   "outputs": [],
   "source": [
    "import seaborn as sns\n",
    "\n",
    "df['Rolling Mean'] = df['Value'].rolling(window=3).mean()\n",
    "plt.figure(figsize=(12, 6))\n",
    "sns.lineplot(data=df, x=df.index, y=\"Value\", label=\"Original Data\", linewidth=2)\n",
    "sns.lineplot(data=df, x=df.index, y=\"Rolling Mean\", label=\"3-Month Rolling Avg\", linewidth=2, linestyle=\"dashed\")\n",
    "plt.xlabel(\"Date\")\n",
    "plt.ylabel(\"Value\")\n",
    "plt.title(\"Time Series Data with Rolling Average\")\n",
    "plt.xticks(rotation=45)\n",
    "plt.legend()\n",
    "plt.show()\n",
    "\n"
   ]
  },
  {
   "cell_type": "code",
   "execution_count": null,
   "metadata": {
    "vscode": {
     "languageId": "plaintext"
    }
   },
   "outputs": [],
   "source": [
    "from statsmodels.tsa.seasonal import seasonal_decompose\n",
    "result = seasonal_decompose(df['Value'], model='additive', period=12)\n",
    "\n",
    "fig, axes = plt.subplots(4, 1, figsize=(12, 8), sharex=True)\n",
    "result.observed.plot(ax=axes[0], title='Observed')\n",
    "result.trend.plot(ax=axes[1], title='Trend')\n",
    "result.seasonal.plot(ax=axes[2], title='Seasonality')\n",
    "result.resid.plot(ax=axes[3], title='Residuals')\n",
    "plt.tight_layout()\n",
    "plt.show()\n"
   ]
  },
  {
   "cell_type": "code",
   "execution_count": null,
   "metadata": {
    "vscode": {
     "languageId": "plaintext"
    }
   },
   "outputs": [],
   "source": [
    "np.random.seed(42)\n",
    "date_range = pd.date_range(start='2023-01-01', periods=365, freq='D')\n",
    "data = np.random.normal(loc=50, scale=10, size=len(date_range))\n",
    "\n",
    "\n",
    "df = pd.DataFrame({'Date': date_range, 'Value': data})\n",
    "\n",
    "df['Month'] = df['Date'].dt.strftime('%b')\n",
    "\n",
    "plt.figure(figsize=(12, 6))\n",
    "sns.boxplot(x='Month', y='Value', data=df, order=['Jan', 'Feb', 'Mar', 'Apr', 'May', 'Jun',\n",
    "                                                  'Jul', 'Aug', 'Sep', 'Oct', 'Nov', 'Dec'])\n",
    "plt.title('Box Plot of Time Series Data (Monthly Distribution)')\n",
    "plt.xlabel('Month')\n",
    "plt.ylabel('Value')\n",
    "plt.grid(True)\n",
    "plt.show()"
   ]
  }
 ],
 "metadata": {
  "language_info": {
   "name": "python"
  }
 },
 "nbformat": 4,
 "nbformat_minor": 2
}
